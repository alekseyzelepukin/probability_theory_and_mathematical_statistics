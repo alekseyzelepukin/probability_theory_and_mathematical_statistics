{
 "cells": [
  {
   "cell_type": "markdown",
   "metadata": {
    "collapsed": false
   },
   "source": [
    "#### 1. Даны значения величины заработной платы заемщиков банка (zp) и значения их поведенческого кредитного скоринга (ks):\n",
    "#### zp = [35, 45, 190, 200, 40, 70, 54, 150, 120, 110],\n",
    "#### ks = [401, 574, 874, 919, 459, 739, 653, 902, 746, 832].\n",
    "#### Найдите ковариацию этих двух величин с помощью элементарных действий, а затем с помощью функции cov из numpy\n",
    "#### Полученные значения должны быть равны.\n",
    "#### Найдите коэффициент корреляции Пирсона с помощью ковариации и среднеквадратичных отклонений двух признаков,\n",
    "#### а затем с использованием функций из библиотек numpy и pandas."
   ]
  },
  {
   "cell_type": "code",
   "execution_count": 1,
   "metadata": {
    "collapsed": false
   },
   "outputs": [
   ],
   "source": [
    "import numpy as np\n",
    "import math"
   ]
  },
  {
   "cell_type": "code",
   "execution_count": 2,
   "metadata": {
    "collapsed": false
   },
   "outputs": [
    {
     "name": "stdout",
     "output_type": "stream",
     "text": [
      "UDF covariance: 10175.3778, NumPy covariance: 10175.3778\n",
      "UDF correlation: 0.8875, NumPy correlation: 0.8875\n"
     ]
    }
   ],
   "source": [
    "zp = [35, 45, 190, 200, 40, 70, 54, 150, 120, 110]\n",
    "ks = [401, 574, 874, 919, 459, 739, 653, 902, 746, 832]\n",
    "\n",
    "class my_stat():\n",
    "\n",
    "    def my_cov(x, y):\n",
    "        x_mean = np.mean(x)\n",
    "        y_mean = np.mean(y)\n",
    "        n = len(x)\n",
    "        covariance = np.sum((np.array(x) - x_mean) * (np.array(y) - y_mean)) / (n - 1)\n",
    "        return covariance\n",
    "\n",
    "    def my_cor(x, y):\n",
    "        x_std = np.std(x, ddof=1)\n",
    "        y_std = np.std(y, ddof=1)\n",
    "        n = len(x)\n",
    "        correlation = my_stat.my_cov(x, y) / (x_std * y_std)\n",
    "        return correlation\n",
    "\n",
    "print(f'UDF covariance: {np.round(my_stat.my_cov(zp, ks), 4)}, NumPy covariance: {np.round(np.cov(zp, ks)[0][1], 4)}')\n",
    "print(f'UDF correlation: {np.round(my_stat.my_cor(zp, ks), 4)}, NumPy correlation: {np.round(np.corrcoef(zp, ks)[0][1], 4)}')"
   ]
  },
  {
   "cell_type": "markdown",
   "metadata": {
    "collapsed": false
   },
   "source": [
    "#### 2. Измерены значения IQ выборки студентов,\n",
    "#### обучающихся в местных технических вузах:\n",
    "#### 131, 125, 115, 122, 131, 115, 107, 99, 125, 111.\n",
    "#### Известно, что в генеральной совокупности IQ распределен нормально.\n",
    "#### Найдите доверительный интервал для математического ожидания с надежностью 0.95."
   ]
  },
  {
   "cell_type": "code",
   "execution_count": 3,
   "metadata": {
    "collapsed": false
   },
   "outputs": [
   ],
   "source": [
    "# https://statpsy.ru/t-student/t-test-tablica/\n",
    "# https://www.kontrolnaya-rabota.ru/s/teoriya-veroyatnosti/tablica-studenta/?n=10&p=0.95"
   ]
  },
  {
   "cell_type": "code",
   "execution_count": 4,
   "metadata": {
    "collapsed": false
   },
   "outputs": [
    {
     "name": "stdout",
     "output_type": "stream",
     "text": [
      "Доверительный интервал: [110.5559, 125.6441]\n"
     ]
    }
   ],
   "source": [
    "iq = [131, 125, 115, 122, 131, 115, 107, 99, 125, 111]\n",
    "\n",
    "m = np.mean(iq)\n",
    "s = np.std(iq, ddof=1)\n",
    "n = len(iq)\n",
    "df = n - 1\n",
    "\n",
    "p = 0.05\n",
    "t = 2.2622\n",
    "\n",
    "print(f'Доверительный интервал: [{np.round(m - t * s / math.sqrt(n), 4)}, {np.round(m + t * s / math.sqrt(n), 4)}]')"
   ]
  },
  {
   "cell_type": "markdown",
   "metadata": {
    "collapsed": false
   },
   "source": [
    "#### 3. Известно, что рост футболистов в сборной распределен нормально\n",
    "#### с дисперсией генеральной совокупности, равной 25 кв.см. Объем выборки равен 27,\n",
    "#### среднее выборочное составляет 174.2. Найдите доверительный интервал для математического \n",
    "#### ожидания с надежностью 0.95."
   ]
  },
  {
   "cell_type": "code",
   "execution_count": 5,
   "metadata": {
    "collapsed": false
   },
   "outputs": [
   ],
   "source": [
    "# https://math.semestr.ru/corel/table-laplas.php"
   ]
  },
  {
   "cell_type": "code",
   "execution_count": 6,
   "metadata": {
    "collapsed": false
   },
   "outputs": [
    {
     "name": "stdout",
     "output_type": "stream",
     "text": [
      "Доверительный интервал: [172.314, 176.086]\n"
     ]
    }
   ],
   "source": [
    "m = 174.2\n",
    "d = 25\n",
    "s = math.sqrt(d)\n",
    "n = 27\n",
    "df = n - 1\n",
    "\n",
    "p = 0.05\n",
    "t = 1.96\n",
    "\n",
    "print(f'Доверительный интервал: [{np.round(m - t * s / math.sqrt(n), 4)}, {np.round(m + t * s / math.sqrt(n), 4)}]')"
   ]
  },
  {
   "cell_type": "markdown",
   "metadata": {
    "collapsed": false
   },
   "source": [
    "#### 4. Выберите тему для проектной работы по курсу Теории вероятностей и математической статистики\n",
    "#### и напишите ее в комментарии к Практическому заданию."
   ]
  },
  {
   "cell_type": "code",
   "execution_count": 7,
   "metadata": {
    "collapsed": false
   },
   "outputs": [
   ],
   "source": [
    "# В качестве темы Практического задания предполагаю взять следующую (возможно рассмотрю обе):\n",
    "# Анализ длительности фильма в зависимости от жанра\n",
    "# Анализ рейтинга фильма в зависимости от его длительности"
   ]
  }
 ],
 "metadata": {
  "kernelspec": {
   "display_name": "Python 3 (Ubuntu Linux)",
   "language": "python",
   "metadata": {
    "cocalc": {
     "description": "Python 3 programming language",
     "priority": 100,
     "url": "https://www.python.org/"
    }
   },
   "name": "python3"
  },
  "language_info": {
   "codemirror_mode": {
    "name": "ipython",
    "version": 3
   },
   "file_extension": ".py",
   "mimetype": "text/x-python",
   "name": "python",
   "nbconvert_exporter": "python",
   "pygments_lexer": "ipython3",
   "version": "3.6.7"
  }
 },
 "nbformat": 4,
 "nbformat_minor": 0
}