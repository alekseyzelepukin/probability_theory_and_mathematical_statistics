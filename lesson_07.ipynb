{
 "cells": [
  {
   "cell_type": "markdown",
   "metadata": {
    "collapsed": false
   },
   "source": [
    "#### 1. Даны значения величины заработной платы заемщиков банка (zp) и значения их поведенческого кредитного скоринга (ks): zp = [35, 45, 190, 200, 40, 70, 54, 150, 120, 110], ks = [401, 574, 874, 919, 459, 739, 653, 902, 746, 832]. Используя математические операции, посчитать коэффициенты линейной регрессии, приняв за X заработную плату (то есть, zp - признак), а за y - значения скорингового балла (то есть, ks - целевая переменная). Произвести расчет как с использованием intercept, так и без."
   ]
  },
  {
   "cell_type": "code",
   "execution_count": 1,
   "metadata": {
    "collapsed": false
   },
   "outputs": [
   ],
   "source": [
    "import pandas as pd\n",
    "import numpy as np\n",
    "from sklearn.linear_model import LinearRegression"
   ]
  },
  {
   "cell_type": "code",
   "execution_count": 2,
   "metadata": {
    "collapsed": false
   },
   "outputs": [
   ],
   "source": [
    "zp = [35, 45, 190, 200, 40, 70, 54, 150, 120, 110]\n",
    "ks = [401, 574, 874, 919, 459, 739, 653, 902, 746, 832]"
   ]
  },
  {
   "cell_type": "code",
   "execution_count": 3,
   "metadata": {
    "collapsed": false
   },
   "outputs": [
   ],
   "source": [
    "x = np.array(zp)\n",
    "y = np.array(ks)"
   ]
  },
  {
   "cell_type": "code",
   "execution_count": 4,
   "metadata": {
    "collapsed": false
   },
   "outputs": [
   ],
   "source": [
    "def mse(y_true, y_pred):\n",
    "    return np.sum(np.power((y_true - y_pred), 2)) / len(y_true)\n",
    "\n",
    "def rmse(y_true, y_pred):\n",
    "    return np.sqrt(mse(y_true, y_pred))\n",
    "\n",
    "def approximation_error(y_true, y_pred):\n",
    "    return 100 * np.sum(abs((y_true - y_pred) / y_true)) / len(y_true)\n",
    "\n",
    "class my_stat():\n",
    "\n",
    "    def my_cov(x, y):\n",
    "        x_mean = np.mean(x)\n",
    "        y_mean = np.mean(y)\n",
    "        n = len(x)\n",
    "        covariance = np.sum((np.array(x) - x_mean) * (np.array(y) - y_mean)) / (n - 1)\n",
    "        return covariance\n",
    "\n",
    "    def my_cor(x, y):\n",
    "        x_std = np.std(x, ddof=1)\n",
    "        y_std = np.std(y, ddof=1)\n",
    "        n = len(x)\n",
    "        correlation = my_stat.my_cov(x, y) / (x_std * y_std)\n",
    "        return correlation\n",
    "\n",
    "def r_square(x, y):\n",
    "    return np.power(my_stat.my_cor(x, y), 2)"
   ]
  },
  {
   "cell_type": "markdown",
   "metadata": {
    "collapsed": false
   },
   "source": [
    "#### с использованием intercept"
   ]
  },
  {
   "cell_type": "code",
   "execution_count": 5,
   "metadata": {
    "collapsed": false
   },
   "outputs": [
    {
     "name": "stdout",
     "output_type": "stream",
     "text": [
      "a = 444.1774, b = 2.6205\n",
      "y = 444.1774 + 2.6205 * x\n"
     ]
    }
   ],
   "source": [
    "# аналитический метод:\n",
    "b = (np.mean(x * y) - np.mean(x) * np.mean(y)) / (np.mean(x**2) - np.mean(x) ** 2)\n",
    "a = np.mean(y) - b * np.mean(x)\n",
    "print(f'a = {np.round(a, 4)}, b = {np.round(b, 4)}')\n",
    "print(f'y = {np.round(a, 4)} + {np.round(b, 4)} * x')"
   ]
  },
  {
   "cell_type": "code",
   "execution_count": 6,
   "metadata": {
    "collapsed": false
   },
   "outputs": [
    {
     "name": "stdout",
     "output_type": "stream",
     "text": [
      "MSE: 6470.4142\n",
      "RMSE: 80.4389\n",
      "Approximation error: 11.4693%\n",
      "R**2: 0.7876\n"
     ]
    }
   ],
   "source": [
    "y_hat = a + b * x\n",
    "print(f'MSE: {np.round(mse(y, y_hat), 4)}')\n",
    "print(f'RMSE: {np.round(rmse(y, y_hat), 4)}')\n",
    "print(f'Approximation error: {np.round(approximation_error(y, y_hat), 4)}%')\n",
    "print(f'R**2: {np.round(r_square(y, y_hat), 4)}')"
   ]
  },
  {
   "cell_type": "code",
   "execution_count": 7,
   "metadata": {
    "collapsed": false
   },
   "outputs": [
    {
     "name": "stdout",
     "output_type": "stream",
     "text": [
      "a = 444.1774, b = 2.6205\n",
      "y = 444.1774 + 2.6205 * x\n"
     ]
    }
   ],
   "source": [
    "# линейная алгебра:\n",
    "X = np.hstack([np.ones((len(x.reshape(-1, 1)), 1)), x.reshape(-1, 1)])\n",
    "a, b = np.dot(np.dot(np.linalg.inv(np.dot(X.T, X)), X.T), y)\n",
    "print(f'a = {np.round(a, 4)}, b = {np.round(b, 4)}')\n",
    "print(f'y = {np.round(a, 4)} + {np.round(b, 4)} * x')"
   ]
  },
  {
   "cell_type": "code",
   "execution_count": 8,
   "metadata": {
    "collapsed": false
   },
   "outputs": [
    {
     "name": "stdout",
     "output_type": "stream",
     "text": [
      "MSE: 6470.4142\n",
      "RMSE: 80.4389\n",
      "Approximation error: 11.4693%\n",
      "R**2: 0.7876\n"
     ]
    }
   ],
   "source": [
    "y_hat = a + b * x\n",
    "print(f'MSE: {np.round(mse(y, y_hat), 4)}')\n",
    "print(f'RMSE: {np.round(rmse(y, y_hat), 4)}')\n",
    "print(f'Approximation error: {np.round(approximation_error(y, y_hat), 4)}%')\n",
    "print(f'R**2: {np.round(r_square(y, y_hat), 4)}')"
   ]
  },
  {
   "cell_type": "code",
   "execution_count": 9,
   "metadata": {
    "collapsed": false
   },
   "outputs": [
    {
     "name": "stdout",
     "output_type": "stream",
     "text": [
      "a = 444.1774, b = 2.6205\n",
      "y = 444.1774 + 2.6205 * x\n"
     ]
    }
   ],
   "source": [
    "# машинное обучение:\n",
    "X = x.reshape(-1, 1)\n",
    "lr = LinearRegression(fit_intercept=True)\n",
    "lr.fit(X, y)\n",
    "a, b = lr.intercept_, lr.coef_[0]\n",
    "print(f'a = {np.round(a, 4)}, b = {np.round(b, 4)}')\n",
    "print(f'y = {np.round(a, 4)} + {np.round(b, 4)} * x')"
   ]
  },
  {
   "cell_type": "code",
   "execution_count": 10,
   "metadata": {
    "collapsed": false
   },
   "outputs": [
    {
     "name": "stdout",
     "output_type": "stream",
     "text": [
      "MSE: 6470.4142\n",
      "RMSE: 80.4389\n",
      "Approximation error: 11.4693%\n",
      "R**2: 0.7876\n"
     ]
    }
   ],
   "source": [
    "y_hat = lr.predict(X)\n",
    "print(f'MSE: {np.round(mse(y, y_hat), 4)}')\n",
    "print(f'RMSE: {np.round(rmse(y, y_hat), 4)}')\n",
    "print(f'Approximation error: {np.round(approximation_error(y, y_hat), 4)}%')\n",
    "print(f'R**2: {np.round(r_square(y, y_hat), 4)}')"
   ]
  },
  {
   "cell_type": "markdown",
   "metadata": {
    "collapsed": false
   },
   "source": [
    "#### без использования intercept"
   ]
  },
  {
   "cell_type": "code",
   "execution_count": 11,
   "metadata": {
    "collapsed": false
   },
   "outputs": [
    {
     "name": "stdout",
     "output_type": "stream",
     "text": [
      "a = 0, b = 5.8898\n",
      "y = 0 + 5.8898 * x\n"
     ]
    }
   ],
   "source": [
    "# линейная алгебра:\n",
    "X = x.reshape(-1, 1)\n",
    "b = np.dot(np.dot(np.linalg.inv(np.dot(X.T, X)), X.T), y)[0]\n",
    "a = 0\n",
    "print(f'a = {np.round(a, 4)}, b = {np.round(b, 4)}')\n",
    "print(f'y = {np.round(a, 4)} + {np.round(b, 4)} * x')"
   ]
  },
  {
   "cell_type": "code",
   "execution_count": 12,
   "metadata": {
    "collapsed": false
   },
   "outputs": [
    {
     "name": "stdout",
     "output_type": "stream",
     "text": [
      "MSE: 56516.8584\n",
      "RMSE: 237.7327\n",
      "Approximation error: 33.2255%\n",
      "R**2: 0.7876\n"
     ]
    }
   ],
   "source": [
    "y_hat = a + b * x\n",
    "print(f'MSE: {np.round(mse(y, y_hat), 4)}')\n",
    "print(f'RMSE: {np.round(rmse(y, y_hat), 4)}')\n",
    "print(f'Approximation error: {np.round(approximation_error(y, y_hat), 4)}%')\n",
    "print(f'R**2: {np.round(r_square(y, y_hat), 4)}')"
   ]
  },
  {
   "cell_type": "code",
   "execution_count": 13,
   "metadata": {
    "collapsed": false
   },
   "outputs": [
    {
     "name": "stdout",
     "output_type": "stream",
     "text": [
      "a = 0.0, b = 5.8898\n",
      "y = 0.0 + 5.8898 * x\n"
     ]
    }
   ],
   "source": [
    "# машинное обучение:\n",
    "X = x.reshape(-1, 1)\n",
    "lr = LinearRegression(fit_intercept=False)\n",
    "lr.fit(X, y)\n",
    "a, b = lr.intercept_, lr.coef_[0]\n",
    "print(f'a = {np.round(a, 4)}, b = {np.round(b, 4)}')\n",
    "print(f'y = {np.round(a, 4)} + {np.round(b, 4)} * x')"
   ]
  },
  {
   "cell_type": "code",
   "execution_count": 14,
   "metadata": {
    "collapsed": false
   },
   "outputs": [
    {
     "name": "stdout",
     "output_type": "stream",
     "text": [
      "MSE: 56516.8584\n",
      "RMSE: 237.7327\n",
      "Approximation error: 33.2255%\n",
      "R**2: 0.7876\n"
     ]
    }
   ],
   "source": [
    "y_hat = lr.predict(X)\n",
    "print(f'MSE: {np.round(mse(y, y_hat), 4)}')\n",
    "print(f'RMSE: {np.round(rmse(y, y_hat), 4)}')\n",
    "print(f'Approximation error: {np.round(approximation_error(y, y_hat), 4)}%')\n",
    "print(f'R**2: {np.round(r_square(y, y_hat), 4)}')"
   ]
  },
  {
   "cell_type": "markdown",
   "metadata": {
    "collapsed": false
   },
   "source": [
    "#### 2. Посчитать коэффициент линейной регрессии при заработной плате (zp), используя градиентный спуск (без intercept)."
   ]
  },
  {
   "cell_type": "code",
   "execution_count": 15,
   "metadata": {
    "collapsed": false,
    "scrolled": true
   },
   "outputs": [
   ],
   "source": [
    "# алгоритм градиентного спуска для однофакторной модели линейной регресиии:\n",
    "def gradient_descent(x, y, learning_rate=0.0001, max_iter=1000, eps=0.0001, intercept=False, verbose=0):\n",
    "    a, b = 0, 0\n",
    "    n = len(x)\n",
    "    if intercept:\n",
    "        for i in range(1, max_iter + 1):\n",
    "            y_pred = a + b * x\n",
    "            da = -1 / n * np.sum(y - y_pred)\n",
    "            db = -1 / n * np.sum(x * (y - y_pred))\n",
    "            grad_a = learning_rate * da\n",
    "            grad_b = learning_rate * db\n",
    "            if verbose:\n",
    "                if i % verbose == 0:\n",
    "                    print(f'Iter: {i}, a = {np.round(a, 4)}, b = {np.round(b, 4)}')\n",
    "                if abs(-grad_a) < eps and (-grad_b) < eps:\n",
    "                    print('*' * 64)\n",
    "                    print('Early stopping!')\n",
    "                    print(f'Iter: {i}, a = {np.round(a, 4)}, b = {np.round(b, 4)}')\n",
    "                    print('*' * 64)\n",
    "                    break\n",
    "            a = a - grad_a\n",
    "            b = b - grad_b\n",
    "        return a, b\n",
    "    else:\n",
    "        for i in range(1, max_iter + 1):\n",
    "            y_pred = a + b * x\n",
    "            db = -1 / n * np.sum(x * (y - y_pred))\n",
    "            grad_b = learning_rate * db\n",
    "            if verbose:\n",
    "                if i % verbose == 0:\n",
    "                    print(f'Iter: {i}, a = {np.round(a, 4)}, b = {np.round(b, 4)}')\n",
    "                if abs(-grad_b) < eps:\n",
    "                    print('*' * 64)\n",
    "                    print('Early stopping!')\n",
    "                    print(f'Iter: {i}, a = {np.round(a, 4)}, b = {np.round(b, 4)}')\n",
    "                    print('*' * 64)\n",
    "                    break\n",
    "            b = b - grad_b\n",
    "        return a, b"
   ]
  },
  {
   "cell_type": "code",
   "execution_count": 16,
   "metadata": {
    "collapsed": false,
    "scrolled": true
   },
   "outputs": [
    {
     "name": "stdout",
     "output_type": "stream",
     "text": [
      "Iter: 10, a = 0, b = 5.8907\n",
      "****************************************************************\n",
      "Early stopping!\n",
      "Iter: 13, a = 0, b = 5.8898\n",
      "****************************************************************\n",
      "a = 0, b = 5.8898\n",
      "y = 0 + 5.8898 * x\n"
     ]
    }
   ],
   "source": [
    "a, b = gradient_descent(x, y, max_iter=100, verbose=10)\n",
    "print(f'a = {np.round(a, 4)}, b = {np.round(b, 4)}')\n",
    "print(f'y = {np.round(a, 4)} + {np.round(b, 4)} * x')"
   ]
  },
  {
   "cell_type": "code",
   "execution_count": 17,
   "metadata": {
    "collapsed": false
   },
   "outputs": [
    {
     "name": "stdout",
     "output_type": "stream",
     "text": [
      "MSE: 56516.8584\n",
      "RMSE: 237.7327\n",
      "Approximation error: 33.2257%\n",
      "R**2: 0.7876\n"
     ]
    }
   ],
   "source": [
    "y_hat = a + b * x\n",
    "print(f'MSE: {np.round(mse(y, y_hat), 4)}')\n",
    "print(f'RMSE: {np.round(rmse(y, y_hat), 4)}')\n",
    "print(f'Approximation error: {np.round(approximation_error(y, y_hat), 4)}%')\n",
    "print(f'R**2: {np.round(r_square(y, y_hat), 4)}')"
   ]
  },
  {
   "cell_type": "markdown",
   "metadata": {
    "collapsed": false
   },
   "source": [
    "#### 3. В каких случаях для вычисления доверительных интервалов и проверки статистических гипотез используется таблица значений функции Лапласа, а в каких - таблица критических точек распределения Стьюдента?"
   ]
  },
  {
   "cell_type": "markdown",
   "metadata": {
    "collapsed": false
   },
   "source": [
    "Для проверки статистических гипотез используется:\n",
    "- таблица значений функции Лапаласа - в случае, если известна дисперсия генеральной совокупности\n",
    "- таблица критических точек распределения Стъюдента - в случае, если дисперсия генеральной совокупности неизвестна"
   ]
  },
  {
   "cell_type": "markdown",
   "metadata": {
    "collapsed": false
   },
   "source": [
    "#### *4. Произвести вычисления как в пункте 2, но с вычислением intercept. Учесть, что изменение коэффициентов должно производиться\n",
    "#### на каждом шаге одновременно (то есть изменение одного коэффициента не должно влиять на изменение другого во время одной итерации)."
   ]
  },
  {
   "cell_type": "code",
   "execution_count": 18,
   "metadata": {
    "collapsed": false,
    "scrolled": true
   },
   "outputs": [
    {
     "name": "stdout",
     "output_type": "stream",
     "text": [
      "Iter: 10000, a = 99.5384, b = 5.1572\n"
     ]
    },
    {
     "name": "stdout",
     "output_type": "stream",
     "text": [
      "Iter: 20000, a = 176.7513, b = 4.5889\n"
     ]
    },
    {
     "name": "stdout",
     "output_type": "stream",
     "text": [
      "Iter: 30000, a = 236.6655, b = 4.1479\n"
     ]
    },
    {
     "name": "stdout",
     "output_type": "stream",
     "text": [
      "Iter: 40000, a = 283.1565, b = 3.8057\n"
     ]
    },
    {
     "name": "stdout",
     "output_type": "stream",
     "text": [
      "Iter: 50000, a = 319.2316, b = 3.5402\n"
     ]
    },
    {
     "name": "stdout",
     "output_type": "stream",
     "text": [
      "Iter: 60000, a = 347.2244, b = 3.3342\n"
     ]
    },
    {
     "name": "stdout",
     "output_type": "stream",
     "text": [
      "Iter: 70000, a = 368.9458, b = 3.1743\n"
     ]
    },
    {
     "name": "stdout",
     "output_type": "stream",
     "text": [
      "Iter: 80000, a = 385.8007, b = 3.0502\n"
     ]
    },
    {
     "name": "stdout",
     "output_type": "stream",
     "text": [
      "Iter: 90000, a = 398.8794, b = 2.954\n",
      "Iter: 100000, a = 409.0279, b = 2.8793\n"
     ]
    },
    {
     "name": "stdout",
     "output_type": "stream",
     "text": [
      "Iter: 110000, a = 416.9028, b = 2.8213\n",
      "Iter: 120000, a = 423.0134, b = 2.7763\n"
     ]
    },
    {
     "name": "stdout",
     "output_type": "stream",
     "text": [
      "Iter: 130000, a = 427.755, b = 2.7414\n",
      "Iter: 140000, a = 431.4343, b = 2.7143\n"
     ]
    },
    {
     "name": "stdout",
     "output_type": "stream",
     "text": [
      "Iter: 150000, a = 434.2892, b = 2.6933\n",
      "Iter: 160000, a = 436.5046, b = 2.677\n"
     ]
    },
    {
     "name": "stdout",
     "output_type": "stream",
     "text": [
      "Iter: 170000, a = 438.2236, b = 2.6644\n",
      "Iter: 180000, a = 439.5575, b = 2.6545\n"
     ]
    },
    {
     "name": "stdout",
     "output_type": "stream",
     "text": [
      "****************************************************************\n",
      "Early stopping!\n",
      "Iter: 186252, a = 440.235, b = 2.6496\n",
      "****************************************************************\n",
      "a = 440.235, b = 2.6496\n",
      "y = 440.235 + 2.6496 * x\n"
     ]
    }
   ],
   "source": [
    "a, b = gradient_descent(x, y, max_iter=200000, intercept=True, verbose=10000)\n",
    "print(f'a = {np.round(a, 4)}, b = {np.round(b, 4)}')\n",
    "print(f'y = {np.round(a, 4)} + {np.round(b, 4)} * x')"
   ]
  },
  {
   "cell_type": "code",
   "execution_count": 19,
   "metadata": {
    "collapsed": false
   },
   "outputs": [
    {
     "name": "stdout",
     "output_type": "stream",
     "text": [
      "MSE: 6474.3568\n",
      "RMSE: 80.4634\n",
      "Approximation error: 11.4804%\n",
      "R**2: 0.7876\n"
     ]
    }
   ],
   "source": [
    "y_hat = a + b * x\n",
    "print(f'MSE: {np.round(mse(y, y_hat), 4)}')\n",
    "print(f'RMSE: {np.round(rmse(y, y_hat), 4)}')\n",
    "print(f'Approximation error: {np.round(approximation_error(y, y_hat), 4)}%')\n",
    "print(f'R**2: {np.round(r_square(y, y_hat), 4)}')"
   ]
  },
  {
   "cell_type": "code",
   "execution_count": 0,
   "metadata": {
    "collapsed": false
   },
   "outputs": [
   ],
   "source": [
   ]
  }
 ],
 "metadata": {
  "kernelspec": {
   "display_name": "Python 3 (Ubuntu Linux)",
   "language": "python",
   "metadata": {
    "cocalc": {
     "description": "Python 3 programming language",
     "priority": 100,
     "url": "https://www.python.org/"
    }
   },
   "name": "python3"
  }
 },
 "nbformat": 4,
 "nbformat_minor": 0
}