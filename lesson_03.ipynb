{
 "cells": [
  {
   "cell_type": "markdown",
   "metadata": {
    "collapsed": false
   },
   "source": [
    "#### 1. Даны значения зарплат из выборки выпускников: 100, 80, 75, 77, 89, 33, 45, 25, 65, 17, 30, 24, 57, 55, 70, 75, 65, 84, 90, 150. Посчитать (желательно без использования статистических методов наподобие std, var, mean) среднее арифметическое, среднее квадратичное отклонение, смещенную и несмещенную оценки дисперсий для данной выборки."
   ]
  },
  {
   "cell_type": "code",
   "execution_count": 1,
   "metadata": {
    "collapsed": false
   },
   "outputs": [
   ],
   "source": [
    "import numpy as np\n",
    "from scipy.special import comb"
   ]
  },
  {
   "cell_type": "code",
   "execution_count": 2,
   "metadata": {
    "collapsed": false
   },
   "outputs": [
   ],
   "source": [
    "class StatsMethods:\n",
    "\n",
    "    # среднее арифметическое\n",
    "    def mean(x):\n",
    "        return np.sum(x) / len(x)\n",
    "\n",
    "    # среднее квадратичное отклонение\n",
    "    def std(x):\n",
    "        x_mean = StatsMethods.mean(x)\n",
    "        n = len(x)\n",
    "        return np.sqrt(np.sum((x - x_mean)**2) / n)\n",
    "\n",
    "    # смещенная дисперсия\n",
    "    def var_pop(x):\n",
    "        x_mean = StatsMethods.mean(x)\n",
    "        n = len(x)\n",
    "        return np.sum((x - x_mean)**2) / n\n",
    "\n",
    "    # несмещенная дисперсия\n",
    "    def var_samp(x):\n",
    "        x_mean = StatsMethods.mean(x)\n",
    "        n = len(x)\n",
    "        return np.sum((x - x_mean)**2) / (n - 1) "
   ]
  },
  {
   "cell_type": "code",
   "execution_count": 3,
   "metadata": {
    "collapsed": false
   },
   "outputs": [
   ],
   "source": [
    "salaries = [100, 80, 75, 77, 89, 33, 45, 25, 65, 17, 30, 24, 57, 55, 70, 75, 65, 84, 90, 150]"
   ]
  },
  {
   "cell_type": "code",
   "execution_count": 4,
   "metadata": {
    "collapsed": false
   },
   "outputs": [
    {
     "name": "stdout",
     "output_type": "stream",
     "text": [
      "Среднее арифметическое: 65.3\n",
      "Среднее квадратическое отклоненние: 30.8239\n",
      "Смещенная дисперсия: 950.11\n",
      "Несмещенная дисперсия: 1000.1158\n"
     ]
    }
   ],
   "source": [
    "print(f'Среднее арифметическое: {np.round(StatsMethods.mean(salaries), 4)}')\n",
    "print(f'Среднее квадратическое отклоненние: {np.round(StatsMethods.std(salaries), 4)}')\n",
    "print(f'Смещенная дисперсия: {np.round(StatsMethods.var_pop(salaries), 4)}')\n",
    "print(f'Несмещенная дисперсия: {np.round(StatsMethods.var_samp(salaries), 4)}')"
   ]
  },
  {
   "cell_type": "markdown",
   "metadata": {
    "collapsed": false
   },
   "source": [
    "#### 2. В первом ящике находится 8 мячей, из которых 5 - белые. Во втором ящике - 12 мячей, из которых 5 белых. Из первого ящика вытаскивают случайным образом два мяча, из второго - 4. Какова вероятность того, что 3 мяча белые?"
   ]
  },
  {
   "cell_type": "code",
   "execution_count": 5,
   "metadata": {
    "collapsed": false
   },
   "outputs": [
    {
     "name": "stdout",
     "output_type": "stream",
     "text": [
      "Вероятность того, что 3 мяча белые: 0.3687\n"
     ]
    }
   ],
   "source": [
    "# с помощью комбинаторики:\n",
    "\n",
    "h1 = ((comb(5, 0) * comb(3, 2)) / comb(8, 2)) * ((comb(5, 3) * comb(7, 1)) / comb(12, 4))\n",
    "h2 = ((comb(5, 1) * comb(3, 1)) / comb(8, 2)) * ((comb(5, 2) * comb(7, 2)) / comb(12, 4))\n",
    "h3 = ((comb(5, 2) * comb(3, 0)) / comb(8, 2)) * ((comb(5, 1) * comb(7, 3)) / comb(12, 4))\n",
    "\n",
    "P = h1 + h2 + h3\n",
    "\n",
    "print(f'Вероятность того, что 3 мяча белые: {np.round(P, 4)}')"
   ]
  },
  {
   "cell_type": "code",
   "execution_count": 6,
   "metadata": {
    "collapsed": false
   },
   "outputs": [
    {
     "name": "stdout",
     "output_type": "stream",
     "text": [
      "Вероятность того, что 3 мяча белые: 0.3686\n"
     ]
    }
   ],
   "source": [
    "# с помощью метода Монте Карло:\n",
    "\n",
    "from random import shuffle, sample\n",
    "\n",
    "# 1 - белый мяч, 0 - черный мяч\n",
    "a = [1, 1, 1, 1, 1, 0, 0, 0]\n",
    "b = [1, 1, 1, 1, 1, 0, 0, 0, 0, 0, 0, 0]\n",
    "\n",
    "shuffle(a)\n",
    "shuffle(b)\n",
    "\n",
    "n = 100000\n",
    "m = 0\n",
    "for _ in range(n):\n",
    "    x = sample(a, 2)\n",
    "    y = sample(b, 4)\n",
    "    z = x + y\n",
    "    if np.sum(z) == 3:\n",
    "        m += 1\n",
    "\n",
    "P = m / n\n",
    "\n",
    "print(f'Вероятность того, что 3 мяча белые: {np.round(P, 4)}')"
   ]
  },
  {
   "cell_type": "markdown",
   "metadata": {
    "collapsed": false
   },
   "source": [
    "#### 3. На соревновании по биатлону один из трех спортсменов стреляет и попадает в мишень. Вероятность попадания для первого спортсмена равна 0.9, для второго — 0.8, для третьего — 0.6. Найти вероятность того, что выстрел произведен: a). первым спортсменом б). вторым спортсменом в). третьим спортсменом."
   ]
  },
  {
   "cell_type": "code",
   "execution_count": 7,
   "metadata": {
    "collapsed": false
   },
   "outputs": [
    {
     "name": "stdout",
     "output_type": "stream",
     "text": [
      "Вероятность того что выстрел произведен первым спортсменом: 0.6207\n",
      "Вероятность того что выстрел произведен вторым спортсменом: 0.2759\n",
      "Вероятность того что выстрел произведен третьим спортсменом: 0.1034\n"
     ]
    }
   ],
   "source": [
    "# применим формулу Байеса:\n",
    "\n",
    "p1, p2, p3 = 0.9, 0.8, 0.6\n",
    "q1, q2, q3 = 1 - p1, 1 - p2, 1 - p3\n",
    "\n",
    "h1 = p1 * q2 * q3\n",
    "h2 = q1 * p2 * q3\n",
    "h3 = q1 * q2 * p3\n",
    "\n",
    "P1 = h1 / (h1 + h2 + h3)\n",
    "P2 = h2 / (h1 + h2 + h3)\n",
    "P3 = h3 / (h1 + h2 + h3)\n",
    "\n",
    "print(f'Вероятность того что выстрел произведен первым спортсменом: {np.round(P1, 4)}')\n",
    "print(f'Вероятность того что выстрел произведен вторым спортсменом: {np.round(P2, 4)}')\n",
    "print(f'Вероятность того что выстрел произведен третьим спортсменом: {np.round(P3, 4)}')"
   ]
  },
  {
   "cell_type": "markdown",
   "metadata": {
    "collapsed": false
   },
   "source": [
    "#### 4. В университет на факультеты A и B поступило равное количество студентов, а на факультет C студентов поступило столько же, сколько на A и B вместе. Вероятность того, что студент факультета A сдаст первую сессию, равна 0.8. Для студента факультета B эта вероятность равна 0.7, а для студента факультета C - 0.9. Студент сдал первую сессию. Какова вероятность, что он учится: a). на факультете A б). на факультете B в). на факультете C?"
   ]
  },
  {
   "cell_type": "code",
   "execution_count": 8,
   "metadata": {
    "collapsed": false
   },
   "outputs": [
    {
     "name": "stdout",
     "output_type": "stream",
     "text": [
      "Вероятность того что студент учился на факультете A: 0.2424\n",
      "Вероятность того что студент учился на факультете B: 0.2121\n",
      "Вероятность того что студент учился на факультете C: 0.5455\n"
     ]
    }
   ],
   "source": [
    "A, B, C = 1/4, 1/4, 2/4\n",
    "p_A, p_B, p_C = 0.8, 0.7, 0.9\n",
    "\n",
    "P1 = (A * p_A) / (A * p_A + B * p_B + C * p_C)\n",
    "P2 = (B * p_B) / (A * p_A + B * p_B + C * p_C)\n",
    "P3 = (C * p_C) / (A * p_A + B * p_B + C * p_C)\n",
    "\n",
    "print(f'Вероятность того что студент учился на факультете A: {np.round(P1, 4)}')\n",
    "print(f'Вероятность того что студент учился на факультете B: {np.round(P2, 4)}')\n",
    "print(f'Вероятность того что студент учился на факультете C: {np.round(P3, 4)}')"
   ]
  },
  {
   "cell_type": "markdown",
   "metadata": {
    "collapsed": false
   },
   "source": [
    "#### 5. Устройство состоит из трех деталей. Для первой детали вероятность выйти из строя в первый месяц равна 0.1, для второй - 0.2, для третьей - 0.25. Какова вероятность того, что в первый месяц выйдут из строя: а). все детали б). только две детали в). хотя бы одна деталь г). от одной до двух деталей?"
   ]
  },
  {
   "cell_type": "code",
   "execution_count": 9,
   "metadata": {
    "collapsed": false
   },
   "outputs": [
    {
     "name": "stdout",
     "output_type": "stream",
     "text": [
      "Вероятность того что в первый месяц выйдут из строя все детали: 0.005\n",
      "Вероятность того что в первый месяц выйдут из строя только две детали: 0.08\n",
      "Вероятность того что в первый месяц выйдут из строя хотя бы одна деталь: 0.46\n",
      "Вероятность того что в первый месяц выйдут из строя от одного до двух деталей: 0.455\n"
     ]
    }
   ],
   "source": [
    "p1, p2, p3 = 0.1, 0.2, 0.25\n",
    "q1, q2, q3 = 1 - p1, 1 - p2, 1 - p3\n",
    "\n",
    "P1 = p1 * p2 * p3\n",
    "P2 = (p1 * p2 * q3) + (p1 * q2 * p3) + (q1 * p2 * p3)\n",
    "P3 = 1 - (q1 * q2 * q3)\n",
    "P4 = ((p1 * q2 * q3) + (q1 * p2 * q3) + (q1 * q2 * p3)) + ((p1 * p2 * q3) + (p1 * q2 * p3) + (q1 * p2 * p3))\n",
    "\n",
    "print(f'Вероятность того что в первый месяц выйдут из строя все детали: {np.round(P1, 4)}')\n",
    "print(f'Вероятность того что в первый месяц выйдут из строя только две детали: {np.round(P2, 4)}')\n",
    "print(f'Вероятность того что в первый месяц выйдут из строя хотя бы одна деталь: {np.round(P3, 4)}')\n",
    "print(f'Вероятность того что в первый месяц выйдут из строя от одного до двух деталей: {np.round(P4, 4)}')"
   ]
  },
  {
   "cell_type": "code",
   "execution_count": 0,
   "metadata": {
    "collapsed": false
   },
   "outputs": [
   ],
   "source": [
   ]
  }
 ],
 "metadata": {
  "kernelspec": {
   "display_name": "Python 3 (Ubuntu Linux)",
   "language": "python",
   "metadata": {
    "cocalc": {
     "description": "Python 3 programming language",
     "priority": 100,
     "url": "https://www.python.org/"
    }
   },
   "name": "python3"
  },
  "language_info": {
   "codemirror_mode": {
    "name": "ipython",
    "version": 3
   },
   "file_extension": ".py",
   "mimetype": "text/x-python",
   "name": "python",
   "nbconvert_exporter": "python",
   "pygments_lexer": "ipython3",
   "version": "3.6.7"
  }
 },
 "nbformat": 4,
 "nbformat_minor": 0
}