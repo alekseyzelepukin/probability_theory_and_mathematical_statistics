{
 "cells": [
  {
   "cell_type": "markdown",
   "metadata": {
    "collapsed": false
   },
   "source": [
    "#### 1. Вероятность того, что стрелок попадет в мишень, выстрелив один раз, равна 0.8. Стрелок выстрелил 100 раз. Найдите вероятность того, что стрелок попадет в цель ровно 85 раз."
   ]
  },
  {
   "cell_type": "code",
   "execution_count": 1,
   "metadata": {
    "collapsed": false
   },
   "outputs": [
   ],
   "source": [
    "import numpy as np\n",
    "from scipy.special import comb"
   ]
  },
  {
   "cell_type": "code",
   "execution_count": 2,
   "metadata": {
    "collapsed": false
   },
   "outputs": [
    {
     "name": "stdout",
     "output_type": "stream",
     "text": [
      "Вероятность того, что стрелок попадет в цель ровно 85 раз: 0.0481\n"
     ]
    }
   ],
   "source": [
    "n = 100\n",
    "k = 85\n",
    "C = comb(n, k)\n",
    "p = 0.8\n",
    "q = 1 - p\n",
    "P = C * p**k * q**(n - k)\n",
    "print(f'Вероятность того, что стрелок попадет в цель ровно 85 раз: {np.round(P, 4)}')"
   ]
  },
  {
   "cell_type": "markdown",
   "metadata": {
    "collapsed": false
   },
   "source": [
    "#### 2. Вероятность того, что лампочка перегорит в течение первого дня эксплуатации, равна 0.0004. В жилом комплексе после ремонта в один день включили 5000 новых лампочек. Какова вероятность, что ни одна из них не перегорит в первый день? Какова вероятность, что перегорят ровно две?"
   ]
  },
  {
   "cell_type": "code",
   "execution_count": 3,
   "metadata": {
    "collapsed": false
   },
   "outputs": [
    {
     "name": "stdout",
     "output_type": "stream",
     "text": [
      "Вероятность того, что ни одна лампочка не перегорит в первый день: 0.1353\n"
     ]
    }
   ],
   "source": [
    "n = 5000\n",
    "m = 0\n",
    "p = 0.0004\n",
    "lambda_ = n * p\n",
    "P = ((lambda_**m) / np.math.factorial(m)) * np.exp(-lambda_)\n",
    "print(f'Вероятность того, что ни одна лампочка не перегорит в первый день: {np.round(P, 4)}')"
   ]
  },
  {
   "cell_type": "code",
   "execution_count": 4,
   "metadata": {
    "collapsed": false
   },
   "outputs": [
    {
     "name": "stdout",
     "output_type": "stream",
     "text": [
      "Вероятность того, что перегорит ровно две лампочки: 0.2707\n"
     ]
    }
   ],
   "source": [
    "n = 5000\n",
    "m = 2\n",
    "p = 0.0004\n",
    "lambda_ = n * p\n",
    "P = ((lambda_**m) / np.math.factorial(m)) * np.exp(-lambda_)\n",
    "print(f'Вероятность того, что перегорит ровно две лампочки: {np.round(P, 4)}')"
   ]
  },
  {
   "cell_type": "markdown",
   "metadata": {
    "collapsed": false
   },
   "source": [
    "#### 3. Монету подбросили 144 раза. Какова вероятность, что орел выпадет ровно 70 раз?"
   ]
  },
  {
   "cell_type": "code",
   "execution_count": 5,
   "metadata": {
    "collapsed": false
   },
   "outputs": [
    {
     "name": "stdout",
     "output_type": "stream",
     "text": [
      "Вероятность того, что орел выпадет ровно 70 раз: 0.0628\n"
     ]
    }
   ],
   "source": [
    "n = 144\n",
    "k = 70\n",
    "C = comb(n, k)\n",
    "p = 0.5\n",
    "q = 1 - p\n",
    "P = C * p**k * q**(n - k)\n",
    "print(f'Вероятность того, что орел выпадет ровно 70 раз: {np.round(P, 4)}')"
   ]
  },
  {
   "cell_type": "markdown",
   "metadata": {
    "collapsed": false
   },
   "source": [
    "#### 4. В первом ящике находится 10 мячей, из которых 7 - белые. Во втором ящике - 11 мячей, из которых 9 белых. Из каждого ящика вытаскивают случайным образом по два мяча. Какова вероятность того, что все мячи белые? Какова вероятность того, что ровно два мяча белые? Какова вероятность того, что хотя бы один мяч белый?"
   ]
  },
  {
   "cell_type": "code",
   "execution_count": 6,
   "metadata": {
    "collapsed": false
   },
   "outputs": [
   ],
   "source": [
    "# решение с помощью комбинаторики"
   ]
  },
  {
   "cell_type": "code",
   "execution_count": 7,
   "metadata": {
    "collapsed": false
   },
   "outputs": [
    {
     "name": "stdout",
     "output_type": "stream",
     "text": [
      "Вероятность того, что все мячи белые: 0.3055\n"
     ]
    }
   ],
   "source": [
    "P = (comb(7, 2) / comb(10, 2)) * (comb(9, 2) / comb(11, 2))\n",
    "print(f'Вероятность того, что все мячи белые: {np.round(P, 4)}')"
   ]
  },
  {
   "cell_type": "code",
   "execution_count": 8,
   "metadata": {
    "collapsed": false
   },
   "outputs": [
    {
     "name": "stdout",
     "output_type": "stream",
     "text": [
      "Вероятность того, что ровно два мяча белые: 0.2048\n"
     ]
    }
   ],
   "source": [
    "h1 = (comb(7, 0) * comb(3, 2)) / comb(10, 2) * (comb(9, 2) * comb(2, 0)) / comb(11, 2)\n",
    "h2 = (comb(7, 1) * comb(3, 1)) / comb(10, 2) * (comb(9, 1) * comb(2, 1)) / comb(11, 2)\n",
    "h3 = (comb(7, 2) * comb(3, 0)) / comb(10, 2) * (comb(9, 0) * comb(2, 2)) / comb(11, 2)\n",
    "P = h1 + h2 + h3\n",
    "print(f'Вероятность того, что ровно два мяча белые: {np.round(P, 4)}')"
   ]
  },
  {
   "cell_type": "code",
   "execution_count": 9,
   "metadata": {
    "collapsed": false
   },
   "outputs": [
    {
     "name": "stdout",
     "output_type": "stream",
     "text": [
      "Вероятность того, что хотя бы один мяч белый: 0.9988\n"
     ]
    }
   ],
   "source": [
    "P = 1 - (comb(3, 2) / comb(10, 2)) * (comb(2, 2) / comb(11, 2))\n",
    "print(f'Вероятность того, что хотя бы один мяч белый: {np.round(P, 4)}')"
   ]
  },
  {
   "cell_type": "code",
   "execution_count": 10,
   "metadata": {
    "collapsed": false
   },
   "outputs": [
   ],
   "source": [
    "# решение методом Монте Карло"
   ]
  },
  {
   "cell_type": "code",
   "execution_count": 11,
   "metadata": {
    "collapsed": false
   },
   "outputs": [
   ],
   "source": [
    "from random import shuffle, sample\n",
    "\n",
    "def monte_carlo(a, b, n=100000, k=1, mode='exactly'):\n",
    "    m = 0\n",
    "    for _ in range(n):\n",
    "        x = sample(a, 2)\n",
    "        y = sample(b, 2)\n",
    "        z = np.sum(x + y)\n",
    "        if mode == 'exactly':\n",
    "            if z == k:\n",
    "                m += 1\n",
    "        elif mode == 'not less':\n",
    "            if z >= k:\n",
    "                m += 1\n",
    "        elif mode == 'not more':\n",
    "            if z <= k:\n",
    "                m += 1\n",
    "        else:\n",
    "            pass\n",
    "    return m / n"
   ]
  },
  {
   "cell_type": "code",
   "execution_count": 12,
   "metadata": {
    "collapsed": false
   },
   "outputs": [
   ],
   "source": [
    "# 1 - белый мяч, 0 - черный мяч\n",
    "a = [1, 1, 1, 1, 1, 1, 1, 0, 0, 0]\n",
    "b = [1, 1, 1, 1, 1, 1, 1, 1, 1, 0, 0]\n",
    "shuffle(a)\n",
    "shuffle(b)"
   ]
  },
  {
   "cell_type": "code",
   "execution_count": 13,
   "metadata": {
    "collapsed": false
   },
   "outputs": [
    {
     "name": "stdout",
     "output_type": "stream",
     "text": [
      "Вероятность того, что все мячи белые: 0.3056\n"
     ]
    }
   ],
   "source": [
    "P = monte_carlo(a, b, k=4)\n",
    "print(f'Вероятность того, что все мячи белые: {np.round(P, 4)}')"
   ]
  },
  {
   "cell_type": "code",
   "execution_count": 14,
   "metadata": {
    "collapsed": false
   },
   "outputs": [
    {
     "name": "stdout",
     "output_type": "stream",
     "text": [
      "Вероятность того, что ровно два мяча белые: 0.2028\n"
     ]
    }
   ],
   "source": [
    "P = monte_carlo(a, b, k=2)\n",
    "print(f'Вероятность того, что ровно два мяча белые: {np.round(P, 4)}')"
   ]
  },
  {
   "cell_type": "code",
   "execution_count": 15,
   "metadata": {
    "collapsed": false
   },
   "outputs": [
    {
     "name": "stdout",
     "output_type": "stream",
     "text": [
      "Вероятность того, что хотя бы один мяч белый: 0.9987\n"
     ]
    }
   ],
   "source": [
    "P = monte_carlo(a, b, k=1, mode='not less')\n",
    "print(f'Вероятность того, что хотя бы один мяч белый: {np.round(P, 4)}')"
   ]
  },
  {
   "cell_type": "code",
   "execution_count": 0,
   "metadata": {
    "collapsed": false
   },
   "outputs": [
   ],
   "source": [
   ]
  }
 ],
 "metadata": {
  "kernelspec": {
   "display_name": "Python 3 (Ubuntu Linux)",
   "language": "python",
   "metadata": {
    "cocalc": {
     "description": "Python 3 programming language",
     "priority": 100,
     "url": "https://www.python.org/"
    }
   },
   "name": "python3"
  },
  "language_info": {
   "codemirror_mode": {
    "name": "ipython",
    "version": 3
   },
   "file_extension": ".py",
   "mimetype": "text/x-python",
   "name": "python",
   "nbconvert_exporter": "python",
   "pygments_lexer": "ipython3",
   "version": "3.6.7"
  }
 },
 "nbformat": 4,
 "nbformat_minor": 0
}